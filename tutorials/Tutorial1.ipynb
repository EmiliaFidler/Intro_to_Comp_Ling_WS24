{
  "nbformat": 4,
  "nbformat_minor": 0,
  "metadata": {
    "colab": {
      "provenance": [],
      "include_colab_link": true
    },
    "kernelspec": {
      "name": "python3",
      "display_name": "Python 3"
    }
  },
  "cells": [
    {
      "cell_type": "markdown",
      "metadata": {
        "id": "view-in-github",
        "colab_type": "text"
      },
      "source": [
        "<a href=\"https://colab.research.google.com/github/EmiliaFidler/Intro_to_Comp_Ling_WS24/blob/main/tutorials/Tutorial1.ipynb\" target=\"_parent\"><img src=\"https://colab.research.google.com/assets/colab-badge.svg\" alt=\"Open In Colab\"/></a>"
      ]
    },
    {
      "cell_type": "markdown",
      "source": [
        "# Tutorial 1: Introduction to Computational Linguistics\n",
        "\n",
        "This is the first tutorial with practical exercises for the lecture *Introduction to Computational Linguistics* in the winter semester 2024. Hands-on exercises are marked with 👋 ⚒ and questions are marked with ❓."
      ],
      "metadata": {
        "id": "N4_fSCGEAFZ3"
      }
    },
    {
      "metadata": {
        "id": "ZvZfzSn7bXVl"
      },
      "cell_type": "markdown",
      "source": [
        "## **Store this notebook**\n",
        "\n",
        "Go to **File** and make sure you store this file as a local copy to either your GitHub or Google Drive. If you do not have a Google account and also do not want to create one, please check Option C below."
      ]
    },
    {
      "metadata": {
        "id": "K7PUvU1f4H7C"
      },
      "cell_type": "markdown",
      "source": [
        "\n",
        "## Option A)  Google Drive\n",
        "\n",
        "Go to the menu **File** and click on **Save a Copy in Drive**. The advantage of this option is that your changes in the notebook will be saved regularly. If you wish to move the file to a specific folder, click on **Move** and the select the corresponding folder in your Google Drive.\n"
      ]
    },
    {
      "metadata": {
        "id": "yVnqNjmt4O3y"
      },
      "cell_type": "markdown",
      "source": [
        "## Option B) GitHub\n",
        "\n",
        "\n",
        "Go to the menu **File** and click on **Save a Copy in GitHub**, select the repository on your GitHub account to which you wish to push the Colab notebook. Note that this option does not automatically save changes in your Colab notebook."
      ]
    },
    {
      "metadata": {
        "id": "3GhgHq-n4hZX"
      },
      "cell_type": "markdown",
      "source": [
        "## Option C) Download this notebook as ipynb (Jupyter notebook) or py (Python file)\n",
        "\n",
        "To run this notebook as Jupyter notebook or Python file on your local machine, Python and NLTK need to be installed. Within the course of the semester several more local installations will be required.  \n",
        "\n",
        "To run a Jupyter notebook the easiest option is to install [Anacadonda](https://www.anaconda.com/). A Python file can be run directly from the command line or in an Integrated Development Environment (IDE), such as [PyCharm](https://www.jetbrains.com/de-de/pycharm/)."
      ]
    },
    {
      "metadata": {
        "id": "jHzL2Qjivc0N"
      },
      "cell_type": "markdown",
      "source": [
        "-----------\n",
        "\n",
        "## **Lesson 0.0: Hello World**\n",
        "👋 ⚒\n",
        "1. Create a Code cell by clicking on **+ Code** below the main menu.\n",
        "1. Write a command that prints the string \"Hello world!\".\n",
        "\n",
        "```\n",
        "#for example\n",
        "print(\"Dagmar says \\\"Hello\\\"!\")\n",
        "```\n",
        "\n",
        "4. Go to the code cell and click the **play** button, which is only visible when you move your cursor to the code cell.\n",
        "    \n",
        "\n",
        "\n"
      ]
    },
    {
      "metadata": {
        "id": "1FdcGIjPuBYP"
      },
      "cell_type": "markdown",
      "source": [
        "-----------\n",
        "## **Lesson 1: Simple Variables and Operations**\n",
        "Python is a programming language that uses indentation to structure statements into blocks, instead of brackets.\n",
        "\n",
        "\n",
        "👋 ⚒ Change the example below so that it can run correctly.\n",
        "\n"
      ]
    },
    {
      "metadata": {
        "id": "nF_cL6UMusZG",
        "outputId": "60a689be-a7f7-4f2e-d290-079ff1d2ce1a",
        "colab": {
          "base_uri": "https://localhost:8080/"
        }
      },
      "cell_type": "code",
      "source": [
        "# Exercise: what needs to be corrected so that the following code runs correctly?\n",
        "x = 1\n",
        "if x == 1:\n",
        "  print(\"x is 1.\")"
      ],
      "execution_count": 2,
      "outputs": [
        {
          "output_type": "stream",
          "name": "stdout",
          "text": [
            "x is 1.\n"
          ]
        }
      ]
    },
    {
      "metadata": {
        "id": "mC68rLi-u_KX"
      },
      "cell_type": "markdown",
      "source": [
        "Variables and types in Python are very similar to other programming languages. Run the examples below to see what happens.\n",
        "\n",
        "❓ What happens in the command `int(my_float)`? type change: float turned into integer"
      ]
    },
    {
      "metadata": {
        "id": "SPtFMmfM10BY",
        "cellView": "code",
        "outputId": "5b6637e4-be56-4a12-fef5-11077d47b332",
        "colab": {
          "base_uri": "https://localhost:8080/"
        }
      },
      "cell_type": "code",
      "source": [
        "# Integer\n",
        "my_int = 7\n",
        "print(my_int)\n",
        "\n",
        "# Float\n",
        "my_float = 7.0\n",
        "print(my_float)\n",
        "\n",
        "# String\n",
        "my_string = \"Computational Linguistics\"\n",
        "print(my_string)\n",
        "\n",
        "# What happens here?\n",
        "my_float = int(my_float)\n",
        "print(my_float)"
      ],
      "execution_count": 3,
      "outputs": [
        {
          "output_type": "stream",
          "name": "stdout",
          "text": [
            "7\n",
            "7.0\n",
            "Computational Linguistics\n",
            "7\n"
          ]
        }
      ]
    },
    {
      "cell_type": "markdown",
      "source": [
        "👋 ⚒ Follow the instructions in the following code cells and perform the exercises."
      ],
      "metadata": {
        "id": "LlDG3YcL9Gke"
      }
    },
    {
      "metadata": {
        "id": "gYYr9z-eEjS4",
        "outputId": "6c3c7caa-7f8e-4632-c77b-1a25a8d7c533",
        "colab": {
          "base_uri": "https://localhost:8080/"
        }
      },
      "cell_type": "code",
      "source": [
        "# Exercise: Run 12/(4+3) and 3*3 and print the results of both operations\n",
        "\n",
        "print(12/(4+3))\n",
        "print(3*3)"
      ],
      "execution_count": 5,
      "outputs": [
        {
          "output_type": "stream",
          "name": "stdout",
          "text": [
            "1.7142857142857142\n",
            "9\n"
          ]
        }
      ]
    },
    {
      "metadata": {
        "id": "Yi8qazw5Emp4",
        "outputId": "463b1a89-3ec4-474d-c4f3-7779ae3dcbd6",
        "colab": {
          "base_uri": "https://localhost:8080/"
        }
      },
      "cell_type": "code",
      "source": [
        "# Exercise: Print the variable my_string three times without repeating the variable itself\n",
        "\n",
        "print(\"my_string\"*3)"
      ],
      "execution_count": 6,
      "outputs": [
        {
          "output_type": "stream",
          "name": "stdout",
          "text": [
            "my_stringmy_stringmy_string\n"
          ]
        }
      ]
    },
    {
      "metadata": {
        "id": "5Oz_liBoEhTJ",
        "outputId": "0257b97e-0569-448f-870c-d94d33d6a928",
        "colab": {
          "base_uri": "https://localhost:8080/"
        }
      },
      "cell_type": "code",
      "source": [
        "# Some additional operators\n",
        "print(\"remainder = \", 11 % 3)\n",
        "print(\"squared = \", 11 ** 2)\n",
        "print(\"cubed = \", 11 ** 3)"
      ],
      "execution_count": 7,
      "outputs": [
        {
          "output_type": "stream",
          "name": "stdout",
          "text": [
            "remainder =  2\n",
            "squared =  121\n",
            "cubed =  1331\n"
          ]
        }
      ]
    },
    {
      "metadata": {
        "id": "DOgOijM74rqf"
      },
      "cell_type": "markdown",
      "source": [
        "Strings can not only be multiplied but also concatenated. Let's look at some additional string operations."
      ]
    },
    {
      "metadata": {
        "id": "Sj8ut_tk9Cwg",
        "outputId": "ed22c5ca-5de4-454d-ca5c-b28e99f6dca8",
        "colab": {
          "base_uri": "https://localhost:8080/"
        }
      },
      "cell_type": "code",
      "source": [
        "# String concatenation\n",
        "first = \"first\"\n",
        "second = \"second\"\n",
        "third = first + \" \" + second\n",
        "print(third)\n",
        "\n",
        "one_more = \"Don't worry about apostrophes\"\n",
        "print(one_more)"
      ],
      "execution_count": 8,
      "outputs": [
        {
          "output_type": "stream",
          "name": "stdout",
          "text": [
            "first second\n",
            "Don't worry about apostrophes\n"
          ]
        }
      ]
    },
    {
      "cell_type": "code",
      "source": [
        "# Several variables can be initialized at the same time\n",
        "a,b = 1,2\n",
        "print(\"Initializing and printing: \",a,b,a+b)"
      ],
      "metadata": {
        "id": "cYK9TgmVEcFd",
        "outputId": "4989b8b5-1dfb-4aed-a04b-43f797bab5d8",
        "colab": {
          "base_uri": "https://localhost:8080/"
        }
      },
      "execution_count": 9,
      "outputs": [
        {
          "output_type": "stream",
          "name": "stdout",
          "text": [
            "Initializing and printing:  1 2 3\n"
          ]
        }
      ]
    },
    {
      "metadata": {
        "id": "VRIR23C6E7jr",
        "outputId": "9a5dd5a5-72f8-47b0-def7-b7f8b3389e08",
        "colab": {
          "base_uri": "https://localhost:8080/"
        }
      },
      "cell_type": "code",
      "source": [
        "# Different types of variables cannot be concatenated directly\n",
        "# print(\"This does not work: \", first + a + b)\n",
        "print(\"This works: \", first, a, b)"
      ],
      "execution_count": 11,
      "outputs": [
        {
          "output_type": "stream",
          "name": "stdout",
          "text": [
            "This works:  first 1 2\n"
          ]
        }
      ]
    },
    {
      "cell_type": "markdown",
      "source": [
        "👋 ⚒ Create a variable that combines the string **first** with the variable **a** to obtain \"first1\"."
      ],
      "metadata": {
        "id": "Y-cBGyz6EVx_"
      }
    },
    {
      "cell_type": "code",
      "source": [
        "#Your code here\n",
        "a,b = \"first\",1\n",
        "print(a + str(b))"
      ],
      "metadata": {
        "id": "ncW9hIRbEzZH",
        "collapsed": true,
        "outputId": "bd7898e7-ccb0-4ceb-9a08-ae4bdc27b2d6",
        "colab": {
          "base_uri": "https://localhost:8080/"
        }
      },
      "execution_count": 13,
      "outputs": [
        {
          "output_type": "stream",
          "name": "stdout",
          "text": [
            "first1\n"
          ]
        }
      ]
    },
    {
      "metadata": {
        "id": "_zG0OdiC_90W"
      },
      "cell_type": "markdown",
      "source": [
        "👋 ⚒ Change the following float, integer, and string in a way that all three are printed with the provided print statements.\n"
      ]
    },
    {
      "metadata": {
        "id": "2likxUgrAmZz",
        "outputId": "c7aad150-291e-4ed4-efb9-d3539b657bb8",
        "colab": {
          "base_uri": "https://localhost:8080/"
        }
      },
      "cell_type": "code",
      "source": [
        "# Exercise: change the values of the three variables below so that their\n",
        "# values are printed by the test code\n",
        "mystring = \"hello\"\n",
        "myfloat = 10.0\n",
        "myint = 20\n",
        "\n",
        "# Test code\n",
        "if mystring == \"hello\":\n",
        "    print(\"String: %s\" % mystring)\n",
        "if isinstance(myfloat, float) and myfloat == 10.0:\n",
        "    print(\"Float: %f\" % myfloat)\n",
        "if isinstance(myint, int) and myint == 20:\n",
        "    print(\"Integer: %d\" % myint)"
      ],
      "execution_count": 15,
      "outputs": [
        {
          "output_type": "stream",
          "name": "stdout",
          "text": [
            "String: hello\n",
            "Float: 10.000000\n",
            "Integer: 20\n"
          ]
        }
      ]
    },
    {
      "metadata": {
        "id": "V2H8t7u_opFk"
      },
      "cell_type": "markdown",
      "source": [
        "👋 ⚒ Print the length of the string `my_string`"
      ]
    },
    {
      "metadata": {
        "id": "YIimnHZYoxV_"
      },
      "cell_type": "code",
      "source": [
        "# Length\n",
        "my_string = \"Introduction to Computational Linguistics\""
      ],
      "execution_count": 16,
      "outputs": []
    },
    {
      "cell_type": "markdown",
      "source": [
        "👋 ⚒ Get the letter on the third position of `my_string`"
      ],
      "metadata": {
        "id": "KVi5uqjswj5O"
      }
    },
    {
      "cell_type": "code",
      "source": [
        "# Indexing\n",
        "print(my_string[2])"
      ],
      "metadata": {
        "id": "AWcdcXmtwmI_",
        "outputId": "bbe457bd-6100-4e66-e718-e4cc9feb870b",
        "colab": {
          "base_uri": "https://localhost:8080/"
        }
      },
      "execution_count": 18,
      "outputs": [
        {
          "output_type": "stream",
          "name": "stdout",
          "text": [
            "t\n"
          ]
        }
      ]
    },
    {
      "cell_type": "markdown",
      "source": [
        "👋 ⚒ Slice `my_string` so that you only obtain \"Intro\" in one single line"
      ],
      "metadata": {
        "id": "58Y1nq_1wItR"
      }
    },
    {
      "cell_type": "code",
      "source": [
        "# Slicing\n",
        "print(my_string[:5])"
      ],
      "metadata": {
        "id": "DOvzA1Fpw0-u",
        "outputId": "619087f2-c12b-47d9-e1a5-b59a2dd55529",
        "colab": {
          "base_uri": "https://localhost:8080/"
        }
      },
      "execution_count": 20,
      "outputs": [
        {
          "output_type": "stream",
          "name": "stdout",
          "text": [
            "Intro\n"
          ]
        }
      ]
    },
    {
      "cell_type": "markdown",
      "source": [
        "Further useful string operations."
      ],
      "metadata": {
        "id": "eC3KbcgYw3O7"
      }
    },
    {
      "metadata": {
        "id": "6q3_LaidqWup",
        "outputId": "22bde22b-8a22-48a3-af7f-610c8209d7bd",
        "colab": {
          "base_uri": "https://localhost:8080/"
        }
      },
      "cell_type": "code",
      "source": [
        "print(\"Length of a string: \", len(my_string))\n",
        "print(\"Counting letter 'i': \", my_string.count(\"i\"))\n",
        "\n",
        "print(\"Lower casing \", my_string.lower())\n",
        "print(\"Upper casing \", my_string.upper())\n",
        "print(\"Check for start \", my_string.startswith(\"Introduction\"))\n",
        "print(\"Check for ending \", my_string.endswith(\"s\"), my_string.endswith(\"a\"), my_string.endswith(\"Linguistics\"))\n",
        "\n",
        "print(\"Splitting the string based on blank space creates a list\", my_string.split(\" \"))\n"
      ],
      "execution_count": 21,
      "outputs": [
        {
          "output_type": "stream",
          "name": "stdout",
          "text": [
            "Length of a string:  41\n",
            "Counting letter 'i':  5\n",
            "Lower casing  introduction to computational linguistics\n",
            "Upper casing  INTRODUCTION TO COMPUTATIONAL LINGUISTICS\n",
            "Check for start  True\n",
            "Check for ending  True False True\n",
            "Splitting the string based on blank space creates a list ['Introduction', 'to', 'Computational', 'Linguistics']\n"
          ]
        }
      ]
    },
    {
      "cell_type": "markdown",
      "source": [
        "👋 ⚒ Try out the string operations in the following exercises."
      ],
      "metadata": {
        "id": "M5rBvDP_DB9K"
      }
    },
    {
      "metadata": {
        "id": "Oa1-iFaLrA1c",
        "outputId": "906e24d9-5288-45eb-c7c3-e1b75054a83b",
        "colab": {
          "base_uri": "https://localhost:8080/"
        }
      },
      "cell_type": "code",
      "source": [
        "tester = \"Hey there! What should this string be?\"\n",
        "\n",
        "# Exercise: Calculate the lenght of the string tester\n",
        "print(\"Length of s = %d\" % len(tester))\n",
        "\n",
        "# First occurrence of \"a\" should be at index 8\n",
        "print(\"The first occurrence of the letter a = %d\" % tester.index(\"a\"))\n",
        "\n",
        "# Exercise: count the number of times \"a\" occurs in the string tester\n",
        "print(\"a occurs %d times\" % tester.count(\"a\"))\n",
        "\n",
        "# Exercise: Ensure the string starts with \"Hey\"\n",
        "if tester.startswith(\"Hey\"):\n",
        "    print(\"String starts with 'Hey'. Good!\")"
      ],
      "execution_count": 23,
      "outputs": [
        {
          "output_type": "stream",
          "name": "stdout",
          "text": [
            "Length of s = 38\n",
            "The first occurrence of the letter a = 13\n",
            "a occurs 1 times\n",
            "String starts with 'Hey'. Good!\n"
          ]
        }
      ]
    },
    {
      "cell_type": "markdown",
      "source": [],
      "metadata": {
        "id": "oJecIjikPgNh"
      }
    },
    {
      "cell_type": "markdown",
      "source": [
        "----------\n",
        "## **Lesson 2: Collections**\n",
        "\n",
        "Python has several built-in types that are useful for storing and manipulating data: list, tuple, dict. Here is the official Python documentation on these types (and many others): https://docs.python.org/3/library/stdtypes.html.\n"
      ],
      "metadata": {
        "id": "w0haUFZ8_K2j"
      }
    },
    {
      "cell_type": "markdown",
      "source": [
        "## Lists\n",
        "\n",
        "Lists are a type of array."
      ],
      "metadata": {
        "id": "7eJ_dFGE_0a4"
      }
    },
    {
      "cell_type": "code",
      "source": [
        "branches = [\"phonetics\", \"phonology\"]"
      ],
      "metadata": {
        "id": "qCs_0Ayn_zzq"
      },
      "execution_count": 24,
      "outputs": []
    },
    {
      "cell_type": "code",
      "source": [
        "# Access element list by index\n",
        "print(branches[0])"
      ],
      "metadata": {
        "id": "IF8vDuNTAVVf",
        "outputId": "bdeefd16-abb3-4e81-9cf1-6776ccce553f",
        "colab": {
          "base_uri": "https://localhost:8080/"
        }
      },
      "execution_count": 25,
      "outputs": [
        {
          "output_type": "stream",
          "name": "stdout",
          "text": [
            "phonetics\n"
          ]
        }
      ]
    },
    {
      "cell_type": "code",
      "source": [
        "# Append to list adds elements at the end of the list\n",
        "branches.append(\"morphology\")\n",
        "print(branches)"
      ],
      "metadata": {
        "id": "M7gYTvG0Aadc",
        "outputId": "7a93d876-f27b-43de-e855-e537bc189c80",
        "colab": {
          "base_uri": "https://localhost:8080/"
        }
      },
      "execution_count": 26,
      "outputs": [
        {
          "output_type": "stream",
          "name": "stdout",
          "text": [
            "['phonetics', 'phonology', 'morphology']\n"
          ]
        }
      ]
    },
    {
      "cell_type": "code",
      "source": [
        "# Get length of list\n",
        "print(len(branches))"
      ],
      "metadata": {
        "id": "MPP9YKwbAiPQ",
        "outputId": "6cffb22f-7dab-4cb7-974e-f0fbe995059e",
        "colab": {
          "base_uri": "https://localhost:8080/"
        }
      },
      "execution_count": 27,
      "outputs": [
        {
          "output_type": "stream",
          "name": "stdout",
          "text": [
            "3\n"
          ]
        }
      ]
    },
    {
      "cell_type": "code",
      "source": [
        "# Count the number of times an element is in a list\n",
        "print(branches.count(\"phonology\"))"
      ],
      "metadata": {
        "id": "es_5-k0yB8Ga",
        "outputId": "8cdcfdef-65e2-42a2-e74b-1bcb97e5f873",
        "colab": {
          "base_uri": "https://localhost:8080/"
        }
      },
      "execution_count": 28,
      "outputs": [
        {
          "output_type": "stream",
          "name": "stdout",
          "text": [
            "1\n"
          ]
        }
      ]
    },
    {
      "cell_type": "code",
      "source": [
        "# Concatenate two lists\n",
        "# += operator is a short hand for list1 = list1 + list2 (can also be used for -, *, / and on other types of variables)\n",
        "branches += [\"semantics\", \"pragmatics\"]\n",
        "print(branches)"
      ],
      "metadata": {
        "id": "NjwD6wV8AnQ9",
        "outputId": "c575b984-240b-4eba-8955-c3a2c6675afa",
        "colab": {
          "base_uri": "https://localhost:8080/"
        }
      },
      "execution_count": 29,
      "outputs": [
        {
          "output_type": "stream",
          "name": "stdout",
          "text": [
            "['phonetics', 'phonology', 'morphology', 'semantics', 'pragmatics']\n"
          ]
        }
      ]
    },
    {
      "cell_type": "code",
      "source": [
        "# Create an empty list with two different options\n",
        "more_names = []\n",
        "more_names = list()"
      ],
      "metadata": {
        "id": "U2AuGq14A9XK"
      },
      "execution_count": 30,
      "outputs": []
    },
    {
      "cell_type": "code",
      "source": [
        "# Create a list that contains different data types, this is allowed in Python\n",
        "stuff = [3, [\"Hey\", \"there!\"], -0.31, None]\n",
        "print(stuff)"
      ],
      "metadata": {
        "id": "XdYw6svYA_Z8",
        "outputId": "7be75258-71c4-4328-edcb-d7d6a9e23c74",
        "colab": {
          "base_uri": "https://localhost:8080/"
        }
      },
      "execution_count": 31,
      "outputs": [
        {
          "output_type": "stream",
          "name": "stdout",
          "text": [
            "[3, ['Hey', 'there!'], -0.31, None]\n"
          ]
        }
      ]
    },
    {
      "cell_type": "markdown",
      "source": [
        "👋 ⚒ Change **x_list**, **y_list**, and **big_list** so that the test code prints the provided statements."
      ],
      "metadata": {
        "id": "Rj-YZQqI9fFv"
      }
    },
    {
      "metadata": {
        "id": "jLMEOLeNFuCd",
        "outputId": "96b8df30-79c5-43f8-9016-28fc1fb16971",
        "colab": {
          "base_uri": "https://localhost:8080/"
        }
      },
      "cell_type": "code",
      "source": [
        "x = \"try\"\n",
        "y = \"this\"\n",
        "\n",
        "# To change\n",
        "x_list = [x]*10\n",
        "y_list = [y]*10\n",
        "# big_list should be a combination of the two lists above\n",
        "big_list = x_list + y_list\n",
        "\n",
        "print(\"x_list contains %d objects\" % len(x_list))\n",
        "print(\"y_list contains %d objects\" % len(y_list))\n",
        "print(\"big_list contains %d objects\" % len(big_list))\n",
        "\n",
        "# Test code\n",
        "if x_list.count(x) == 10 and y_list.count(y) == 10:\n",
        "    print(\"Almost there...\")\n",
        "if big_list.count(x) == 10 and big_list.count(y) == 10:\n",
        "    print(\"Great!\")"
      ],
      "execution_count": 34,
      "outputs": [
        {
          "output_type": "stream",
          "name": "stdout",
          "text": [
            "x_list contains 10 objects\n",
            "y_list contains 10 objects\n",
            "big_list contains 20 objects\n",
            "Almost there...\n",
            "Great!\n"
          ]
        }
      ]
    },
    {
      "cell_type": "markdown",
      "source": [
        "👋 ⚒ Get the first two elements of **list1** directly in a print statement using slicing."
      ],
      "metadata": {
        "id": "avMMW0tfAZxG"
      }
    },
    {
      "cell_type": "code",
      "source": [
        "# Your code to print \"This\", \"is\"\n",
        "list1 = [\"This\", \"is\", \"a\", \"list\"]\n",
        "print(list1[:2])"
      ],
      "metadata": {
        "id": "5GAt6JT0DZ2O",
        "outputId": "0be54a06-317d-4c78-f762-0894fa617524",
        "colab": {
          "base_uri": "https://localhost:8080/"
        }
      },
      "execution_count": 35,
      "outputs": [
        {
          "output_type": "stream",
          "name": "stdout",
          "text": [
            "['This', 'is']\n"
          ]
        }
      ]
    },
    {
      "cell_type": "code",
      "source": [
        "# To iterate over two lists at the same time, you can use the function zip\n",
        "list2 = [1, 2, 3, 4]\n",
        "\n",
        "for elem_list1, elem_list2 in zip(list1, list2):\n",
        "  print(elem_list1, elem_list2)"
      ],
      "metadata": {
        "id": "y2gr2UDWIg_i",
        "outputId": "15dc90e5-d13f-47c7-c81e-08696d52a06b",
        "colab": {
          "base_uri": "https://localhost:8080/"
        }
      },
      "execution_count": 36,
      "outputs": [
        {
          "output_type": "stream",
          "name": "stdout",
          "text": [
            "This 1\n",
            "is 2\n",
            "a 3\n",
            "list 4\n"
          ]
        }
      ]
    },
    {
      "cell_type": "code",
      "source": [
        "# When you want to deduplicate a list, it is easiest to convert it into a set\n",
        "list1 = [\"This\", \"is\", \"a\", \"list\", \"list\", \"list\", \"list\"]\n",
        "print(set(list1))\n",
        "\n",
        "# There is a built in function to calculate the overlap of elements between a set and a list\n",
        "list2 = [\"This\", \"also\", \"is\", \"a\", \"list\"]\n",
        "set(list1).intersection(list2)"
      ],
      "metadata": {
        "id": "ANFjzysidsed",
        "outputId": "c7c878a8-c4b7-4bdc-ef26-0501174196a4",
        "colab": {
          "base_uri": "https://localhost:8080/"
        }
      },
      "execution_count": 37,
      "outputs": [
        {
          "output_type": "stream",
          "name": "stdout",
          "text": [
            "{'This', 'is', 'a', 'list'}\n"
          ]
        },
        {
          "output_type": "execute_result",
          "data": {
            "text/plain": [
              "{'This', 'a', 'is', 'list'}"
            ]
          },
          "metadata": {},
          "execution_count": 37
        }
      ]
    },
    {
      "cell_type": "markdown",
      "source": [
        "## Dictionary\n",
        "\n",
        "Dictionaries are hash maps."
      ],
      "metadata": {
        "id": "11TaxZMsEfLa"
      }
    },
    {
      "cell_type": "code",
      "source": [
        "#Create an empty dictionary\n",
        "grades = {}\n",
        "grades = dict()"
      ],
      "metadata": {
        "id": "UionLcFBEqTH"
      },
      "execution_count": 38,
      "outputs": []
    },
    {
      "cell_type": "code",
      "source": [
        "#Add the first item to the dictionary\n",
        "grades = {\"Elon\" : \"5\"}\n",
        "#Add a second item to the dictionary\n",
        "grades[\"Mary\"] = \"1\"\n",
        "print(grades)"
      ],
      "metadata": {
        "id": "2y4QnivKFg4F",
        "outputId": "841f842d-5982-4886-84e1-0dd3f104ba45",
        "colab": {
          "base_uri": "https://localhost:8080/"
        }
      },
      "execution_count": 39,
      "outputs": [
        {
          "output_type": "stream",
          "name": "stdout",
          "text": [
            "{'Elon': '5', 'Mary': '1'}\n"
          ]
        }
      ]
    },
    {
      "cell_type": "code",
      "source": [
        "#Check if key is in dictionary\n",
        "print(\"Elon\" in grades)"
      ],
      "metadata": {
        "id": "SzAnO42TGt8n",
        "outputId": "1970fb4d-3a8e-482b-fc42-d897b872f1b4",
        "colab": {
          "base_uri": "https://localhost:8080/"
        }
      },
      "execution_count": 40,
      "outputs": [
        {
          "output_type": "stream",
          "name": "stdout",
          "text": [
            "True\n"
          ]
        }
      ]
    },
    {
      "cell_type": "code",
      "source": [
        "#Get a value based on the key\n",
        "print(grades[\"Elon\"])"
      ],
      "metadata": {
        "id": "t14MPvCoGzQq",
        "outputId": "c0a43793-450c-41bd-bcb7-6698cd8d8bc9",
        "colab": {
          "base_uri": "https://localhost:8080/"
        }
      },
      "execution_count": 41,
      "outputs": [
        {
          "output_type": "stream",
          "name": "stdout",
          "text": [
            "5\n"
          ]
        }
      ]
    },
    {
      "cell_type": "code",
      "source": [
        "#Change value\n",
        "grades[\"Elon\"] = 4\n",
        "print(grades)"
      ],
      "metadata": {
        "id": "Yb8lqGGCG7SN",
        "outputId": "4bcd693c-053d-4ea7-e544-97d75539bec6",
        "colab": {
          "base_uri": "https://localhost:8080/"
        }
      },
      "execution_count": 42,
      "outputs": [
        {
          "output_type": "stream",
          "name": "stdout",
          "text": [
            "{'Elon': 4, 'Mary': '1'}\n"
          ]
        }
      ]
    },
    {
      "cell_type": "code",
      "source": [
        "#Iterate over dictionary keys and values\n",
        "for key, value in grades.items():\n",
        "  print(key, value)\n",
        "\n",
        "for value in grades.values():\n",
        "  print(value)"
      ],
      "metadata": {
        "id": "ytiOgQHyHUmm",
        "outputId": "0744b26c-3bb3-4082-8c07-c6e0c3d51a0b",
        "colab": {
          "base_uri": "https://localhost:8080/"
        }
      },
      "execution_count": 43,
      "outputs": [
        {
          "output_type": "stream",
          "name": "stdout",
          "text": [
            "Elon 4\n",
            "Mary 1\n",
            "4\n",
            "1\n"
          ]
        }
      ]
    },
    {
      "cell_type": "markdown",
      "source": [
        "👋 ⚒ Iterate over both lists simultaneously and write list1 as keys and list2 as corresponding values into a new dictionary."
      ],
      "metadata": {
        "id": "9zm9d_8UHK94"
      }
    },
    {
      "cell_type": "code",
      "source": [
        "list1 = [\"Anna\", \"Hans\", \"Tom\"]\n",
        "list2 = [1, 2, 1]\n",
        "\n",
        "grades = {}\n",
        "\n",
        "for elem_list1, elem_list2 in zip(list1, list2):\n",
        "  grades[elem_list1] = elem_list2\n",
        "\n",
        "#The result should be {'Anna': 1, 'Hans': 2, 'Tom': 1}\n",
        "print(grades)"
      ],
      "metadata": {
        "id": "IVMUvAecHqwo",
        "outputId": "c8949926-22df-4ac5-e860-e8d2f2cb3a5b",
        "colab": {
          "base_uri": "https://localhost:8080/"
        }
      },
      "execution_count": 44,
      "outputs": [
        {
          "output_type": "stream",
          "name": "stdout",
          "text": [
            "{'Anna': 1, 'Hans': 2, 'Tom': 1}\n"
          ]
        }
      ]
    },
    {
      "cell_type": "code",
      "source": [
        "#Delete an item\n",
        "del grades[\"Tom\"]\n",
        "print(grades)"
      ],
      "metadata": {
        "id": "Pjg2fTTwHC1i",
        "outputId": "53deb8e8-2766-4188-9232-42f968eba558",
        "colab": {
          "base_uri": "https://localhost:8080/"
        }
      },
      "execution_count": 45,
      "outputs": [
        {
          "output_type": "stream",
          "name": "stdout",
          "text": [
            "{'Anna': 1, 'Hans': 2}\n"
          ]
        }
      ]
    }
  ]
}